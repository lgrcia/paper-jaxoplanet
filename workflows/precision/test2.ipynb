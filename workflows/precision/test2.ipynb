{
 "cells": [
  {
   "cell_type": "code",
   "execution_count": 1,
   "metadata": {},
   "outputs": [],
   "source": [
    "import numpy as np"
   ]
  },
  {
   "cell_type": "code",
   "execution_count": 8,
   "metadata": {},
   "outputs": [],
   "source": [
    "f_num = np.load(\"results/num_fs_0.01.npz\", allow_pickle=True)[\"f\"]\n",
    "f = np.load(\"results/jax_nonuniform_limbdark_f_0.01.npz\", allow_pickle=True)"
   ]
  },
  {
   "cell_type": "code",
   "execution_count": 10,
   "metadata": {},
   "outputs": [
    {
     "data": {
      "text/plain": [
       "{'f': array([[0.99989956, 0.99989956, 0.99989956, ..., 1.        , 1.        ,\n",
       "         1.        ],\n",
       "        [0.99985   , 0.99985   , 0.99985   , ..., 1.        , 1.        ,\n",
       "         1.        ],\n",
       "        [0.99988   , 0.99988   , 0.99988   , ..., 1.        , 1.        ,\n",
       "         1.        ],\n",
       "        ...,\n",
       "        [0.99989947, 0.99989947, 0.99989947, ..., 1.        , 1.        ,\n",
       "         1.        ],\n",
       "        [0.99989952, 0.99989952, 0.99989952, ..., 1.        , 1.        ,\n",
       "         1.        ],\n",
       "        [0.99989956, 0.99989956, 0.99989956, ..., 1.        , 1.        ,\n",
       "         1.        ]])}"
      ]
     },
     "execution_count": 10,
     "metadata": {},
     "output_type": "execute_result"
    }
   ],
   "source": [
    "dict(f)"
   ]
  },
  {
   "cell_type": "code",
   "execution_count": null,
   "metadata": {},
   "outputs": [],
   "source": []
  }
 ],
 "metadata": {
  "kernelspec": {
   "display_name": "paper-jaxoplanet",
   "language": "python",
   "name": "python3"
  },
  "language_info": {
   "codemirror_mode": {
    "name": "ipython",
    "version": 3
   },
   "file_extension": ".py",
   "mimetype": "text/x-python",
   "name": "python",
   "nbconvert_exporter": "python",
   "pygments_lexer": "ipython3",
   "version": "3.10.15"
  }
 },
 "nbformat": 4,
 "nbformat_minor": 2
}
