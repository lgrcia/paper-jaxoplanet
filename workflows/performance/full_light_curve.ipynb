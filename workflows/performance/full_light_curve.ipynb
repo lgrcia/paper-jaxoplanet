{
 "cells": [
  {
   "cell_type": "code",
   "execution_count": 1,
   "metadata": {},
   "outputs": [],
   "source": [
    "import jax\n",
    "\n",
    "jax.config.update(\"jax_enable_x64\", True)\n",
    "\n",
    "from jaxoplanet.experimental.starry import Map, Ylm\n",
    "from jaxoplanet.orbits import keplerian\n",
    "\n",
    "params = {\n",
    "    \"central\": keplerian.Central(\n",
    "        mass=1.3,\n",
    "        radius=1.1,\n",
    "    ),\n",
    "    \"central_surface_map\": Map(\n",
    "        y=Ylm.from_dense([1, 0.005, 0.05, 0.09, 0.0, 0.1, 0.03, 0.04, 0.4, 0.2, 0.1]),\n",
    "        inc=0.9,\n",
    "        obl=0.3,\n",
    "        period=1.2,\n",
    "        u=(0.1, 0.1),\n",
    "    ),\n",
    "    \"bodies\": [\n",
    "        {\n",
    "            \"radius\": 0.5,\n",
    "            \"mass\": 0.1,\n",
    "            \"period\": 1.5,\n",
    "            \"surface_map\": Map(\n",
    "                y=Ylm.from_dense([1, 0.005, 0.05, 0.09, 0.0, 0.1, 0.03]),\n",
    "                inc=-0.3,\n",
    "                period=0.8,\n",
    "                u=(0.2, 0.3),\n",
    "            ),\n",
    "        }\n",
    "    ],\n",
    "}"
   ]
  },
  {
   "cell_type": "code",
   "execution_count": 2,
   "metadata": {},
   "outputs": [
    {
     "name": "stderr",
     "output_type": "stream",
     "text": [
      "WARNING (theano.link.c.cmodule): install mkl with `conda install mkl-service`: No module named 'mkl'\n",
      "WARNING (theano.tensor.blas): Using NumPy C-API based implementation for BLAS functions.\n"
     ]
    }
   ],
   "source": [
    "import starry\n",
    "\n",
    "# starry.config.lazy = False\n",
    "import numpy as np\n",
    "\n",
    "\n",
    "from jaxoplanet.experimental.starry.light_curves import light_curve, map_light_curve\n",
    "from jaxoplanet.experimental.starry.orbit import SurfaceMapSystem\n",
    "\n",
    "from jaxoplanet.test_utils import assert_allclose\n",
    "\n",
    "\n",
    "keplerian_system = SurfaceMapSystem(\n",
    "    params[\"central\"],\n",
    "    central_surface_map=params.get(\"central_surface_map\", None),\n",
    ")\n",
    "\n",
    "for body in params[\"bodies\"]:\n",
    "    keplerian_system = keplerian_system.add_body(**body)\n",
    "\n",
    "\n",
    "def jaxoplanet2starry(body, surface_map=None):\n",
    "    cls = starry.Primary if isinstance(body, keplerian.Central) else starry.Secondary\n",
    "    if surface_map is None or surface_map.period is None:\n",
    "        prot = 1e15\n",
    "    else:\n",
    "        prot = surface_map.period\n",
    "\n",
    "    if surface_map is None:\n",
    "        map_kwargs = dict(ydeg=0, rv=False, reflected=False)\n",
    "    else:\n",
    "        map_kwargs = dict(\n",
    "            ydeg=surface_map.ydeg,\n",
    "            udeg=surface_map.udeg,\n",
    "            inc=np.rad2deg(surface_map.inc),\n",
    "            obl=np.rad2deg(surface_map.obl),\n",
    "            amp=surface_map.amplitude,\n",
    "        )\n",
    "\n",
    "    body_kwargs = dict(\n",
    "        r=body.radius.magnitude,\n",
    "        m=body.mass.magnitude,\n",
    "        prot=prot,\n",
    "    )\n",
    "\n",
    "    if isinstance(body, keplerian.OrbitalBody):\n",
    "        body_kwargs[\"porb\"] = body.period.magnitude\n",
    "        map_kwargs[\"amp\"] = surface_map.amplitude if surface_map else 0.0\n",
    "\n",
    "    starry_body = cls(starry.Map(**map_kwargs), **body_kwargs)\n",
    "\n",
    "    if surface_map and surface_map.u:\n",
    "        starry_body.map[1:] = surface_map.u\n",
    "    if surface_map and surface_map.deg > 0:\n",
    "        starry_body.map[1:, :] = np.asarray(surface_map.y.todense())[1:]\n",
    "\n",
    "    return starry_body"
   ]
  },
  {
   "cell_type": "code",
   "execution_count": 4,
   "metadata": {},
   "outputs": [
    {
     "name": "stderr",
     "output_type": "stream",
     "text": [
      "Pre-computing some matrices... Done.\n",
      "Pre-computing some matrices... Done.\n"
     ]
    }
   ],
   "source": [
    "time = np.linspace(-1.5, 1.0, 300)\n",
    "\n",
    "# jaxoplanet\n",
    "jaxoplanet_flux = light_curve(keplerian_system)(time)\n",
    "\n",
    "# starry\n",
    "primary = jaxoplanet2starry(\n",
    "    keplerian_system.central, keplerian_system.central_surface_map\n",
    ")\n",
    "secondaries = [\n",
    "    jaxoplanet2starry(body, surface_map)\n",
    "    for body, surface_map in zip(\n",
    "        keplerian_system.bodies, keplerian_system.bodies_surface_maps\n",
    "    )\n",
    "]\n",
    "\n",
    "starry_system = starry.System(primary, *secondaries)\n",
    "starry_flux = starry_system.flux(time, total=False)\n",
    "\n",
    "# assert_allclose(jaxoplanet_flux.T, np.array(starry_flux))"
   ]
  },
  {
   "cell_type": "code",
   "execution_count": 15,
   "metadata": {},
   "outputs": [
    {
     "data": {
      "text/plain": [
       "[dot.0, dot.0]"
      ]
     },
     "execution_count": 15,
     "metadata": {},
     "output_type": "execute_result"
    }
   ],
   "source": [
    "starry_flux"
   ]
  },
  {
   "cell_type": "code",
   "execution_count": 13,
   "metadata": {},
   "outputs": [
    {
     "name": "stdout",
     "output_type": "stream",
     "text": [
      "45.6 ms ± 514 µs per loop (mean ± std. dev. of 7 runs, 10 loops each)\n"
     ]
    }
   ],
   "source": [
    "%timeit starry_system.flux(time, total=False)"
   ]
  },
  {
   "cell_type": "code",
   "execution_count": 14,
   "metadata": {},
   "outputs": [
    {
     "name": "stdout",
     "output_type": "stream",
     "text": [
      "882 µs ± 7.97 µs per loop (mean ± std. dev. of 7 runs, 1,000 loops each)\n"
     ]
    }
   ],
   "source": [
    "from jax import block_until_ready as bur\n",
    "\n",
    "f = jax.jit(light_curve(keplerian_system))\n",
    "bur(f(time))\n",
    "\n",
    "%timeit bur(f(time))"
   ]
  },
  {
   "cell_type": "code",
   "execution_count": null,
   "metadata": {},
   "outputs": [],
   "source": []
  }
 ],
 "metadata": {
  "kernelspec": {
   "display_name": "jaxoplanet_dev",
   "language": "python",
   "name": "python3"
  },
  "language_info": {
   "codemirror_mode": {
    "name": "ipython",
    "version": 3
   },
   "file_extension": ".py",
   "mimetype": "text/x-python",
   "name": "python",
   "nbconvert_exporter": "python",
   "pygments_lexer": "ipython3",
   "version": "3.9.18"
  }
 },
 "nbformat": 4,
 "nbformat_minor": 2
}
