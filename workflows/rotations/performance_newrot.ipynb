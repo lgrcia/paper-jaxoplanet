{
 "cells": [
  {
   "cell_type": "markdown",
   "metadata": {},
   "source": [
    "# Rotations performance\n",
    "\n",
    "## starry\n",
    "\n",
    "Let's start by defining and evaluating a single rotation as implemented in starry currently"
   ]
  },
  {
   "cell_type": "code",
   "execution_count": 68,
   "metadata": {},
   "outputs": [
    {
     "name": "stderr",
     "output_type": "stream",
     "text": [
      "Pre-computing some matrices... Done.\n"
     ]
    }
   ],
   "source": [
    "import starry\n",
    "import numpy as np\n",
    "\n",
    "l_max = 5\n",
    "n_max = l_max**2 + 2 * l_max + 1\n",
    "y = np.linspace(-1, 1, n_max)\n",
    "starry_op = starry._core.core.OpsYlm(l_max, 0, 0, 1)"
   ]
  },
  {
   "cell_type": "markdown",
   "metadata": {},
   "source": [
    "Here are som angle"
   ]
  },
  {
   "cell_type": "code",
   "execution_count": 26,
   "metadata": {},
   "outputs": [],
   "source": [
    "inc = 60.0\n",
    "obl = 30.0\n",
    "theta = 45.0"
   ]
  },
  {
   "cell_type": "markdown",
   "metadata": {},
   "source": [
    "and the time estiamte"
   ]
  },
  {
   "cell_type": "code",
   "execution_count": 27,
   "metadata": {},
   "outputs": [
    {
     "name": "stderr",
     "output_type": "stream",
     "text": [
      "Compiling `left_project`... Done.\n"
     ]
    },
    {
     "name": "stdout",
     "output_type": "stream",
     "text": [
      "43.1 µs ± 484 ns per loop (mean ± std. dev. of 7 runs, 10,000 loops each)\n"
     ]
    }
   ],
   "source": [
    "starry_op.left_project(y[:, None], inc, obl, theta)\n",
    "\n",
    "%timeit starry_op.left_project(y[:, None], inc, obl, theta)"
   ]
  },
  {
   "cell_type": "markdown",
   "metadata": {},
   "source": [
    "For an array of theta"
   ]
  },
  {
   "cell_type": "code",
   "execution_count": 28,
   "metadata": {},
   "outputs": [
    {
     "name": "stderr",
     "output_type": "stream",
     "text": [
      "Compiling `left_project`... Done.\n"
     ]
    },
    {
     "name": "stdout",
     "output_type": "stream",
     "text": [
      "207 µs ± 2.86 µs per loop (mean ± std. dev. of 7 runs, 1,000 loops each)\n"
     ]
    }
   ],
   "source": [
    "thetas = np.linspace(0, 360, 1000)\n",
    "\n",
    "%timeit starry_op.left_project(y[:, None], inc, obl, thetas)"
   ]
  },
  {
   "cell_type": "markdown",
   "metadata": {},
   "source": [
    "## jaxoplanet\n",
    "\n",
    "We now define the different rotations in jaxoplanet (`left_project1` and `left_project2`, we omit $\\theta_z$ since it is not present in starry `left_project`)"
   ]
  },
  {
   "cell_type": "code",
   "execution_count": 29,
   "metadata": {},
   "outputs": [],
   "source": [
    "import jax\n",
    "\n",
    "jax.config.update(\"jax_enable_x64\", True)\n",
    "import jax.numpy as jnp\n",
    "from jaxoplanet.experimental.starry.rotation import (\n",
    "    right_project_axis_angle,\n",
    "    dot_rotation_matrix,\n",
    "    dot_rz,\n",
    ")\n",
    "\n",
    "\n",
    "# this is the one where everything is baked-in\n",
    "def left_project_all(ydeg, inc, obl, theta, theta_z, x):\n",
    "    axis_x, axis_y, axis_z, angle = right_project_axis_angle(inc, obl, theta, theta_z)\n",
    "    return dot_rotation_matrix(ydeg, -axis_x, -axis_y, -axis_z, angle)(x)\n",
    "\n",
    "\n",
    "# this one used dot_rz\n",
    "def left_project_dotrz(ydeg, inc, obl, theta, x):\n",
    "    x = dot_rotation_matrix(ydeg, 1.0, 0.0, 0.0, -0.5 * jnp.pi)(x)\n",
    "    x = dot_rz(ydeg, -theta)(x)\n",
    "    x = dot_rotation_matrix(ydeg, 1.0, 0.0, 0.0, 0.5 * jnp.pi)(x)\n",
    "    x = dot_rz(ydeg, -obl)(x)\n",
    "    x = dot_rotation_matrix(\n",
    "        ydeg, -jnp.cos(obl), -jnp.sin(obl), 0.0, (0.5 * jnp.pi - inc)\n",
    "    )(x)\n",
    "    return x\n",
    "\n",
    "\n",
    "# this one is the most straightforward\n",
    "def left_project_classic(ydeg, inc, obl, theta, x):\n",
    "    x = dot_rotation_matrix(ydeg, 1.0, 0.0, 0.0, -0.5 * jnp.pi)(x)\n",
    "    x = dot_rotation_matrix(ydeg, None, None, 1.0, -theta)(x)\n",
    "    x = dot_rotation_matrix(ydeg, 1.0, 0.0, 0.0, 0.5 * jnp.pi)(x)\n",
    "    x = dot_rotation_matrix(ydeg, None, None, 1.0, -obl)(x)\n",
    "    x = dot_rotation_matrix(\n",
    "        ydeg, -jnp.cos(obl), -jnp.sin(obl), 0.0, (0.5 * jnp.pi - inc)\n",
    "    )(x)\n",
    "    return x"
   ]
  },
  {
   "cell_type": "markdown",
   "metadata": {},
   "source": [
    "Let see the performances for a single angle theta"
   ]
  },
  {
   "cell_type": "code",
   "execution_count": 30,
   "metadata": {},
   "outputs": [],
   "source": [
    "import timeit\n",
    "from jax import block_until_ready as bur\n",
    "\n",
    "n = 10000\n",
    "\n",
    "f = jax.jit(left_project_all, static_argnames=(\"ydeg\"))\n",
    "bur(f(l_max, inc, obl, theta, 0.0, y))\n",
    "t_all = (\n",
    "    timeit.timeit(\"bur(f(l_max, inc, obl, theta, 0., y))\", globals=globals(), number=n)\n",
    "    / n\n",
    "    * 1e6\n",
    ")\n",
    "\n",
    "f = jax.jit(left_project_dotrz, static_argnames=(\"ydeg\"))\n",
    "bur(f(l_max, inc, obl, theta, y))\n",
    "t_1 = (\n",
    "    timeit.timeit(\"bur(f(l_max, inc, obl, theta, y))\", globals=globals(), number=n)\n",
    "    / n\n",
    "    * 1e6\n",
    ")\n",
    "\n",
    "f = jax.jit(left_project_classic, static_argnames=(\"ydeg\"))\n",
    "bur(f(l_max, inc, obl, theta, y))\n",
    "t_2 = (\n",
    "    timeit.timeit(\"bur(f(l_max, inc, obl, theta, y))\", globals=globals(), number=n)\n",
    "    / n\n",
    "    * 1e6\n",
    ")"
   ]
  },
  {
   "cell_type": "code",
   "execution_count": 13,
   "metadata": {},
   "outputs": [
    {
     "name": "stdout",
     "output_type": "stream",
     "text": [
      "all\t5864.69 us\n",
      "dot_rz\t447.63 us\n",
      "classic\t445.72 us\n"
     ]
    }
   ],
   "source": [
    "print(f\"all\\t{t_all:.2f} us\\ndot_rz\\t{t_1:.2f} us\\nclassic\\t{t_2:.2f} us\")"
   ]
  },
  {
   "cell_type": "code",
   "execution_count": 8,
   "metadata": {},
   "outputs": [],
   "source": [
    "n = 1000\n",
    "\n",
    "f = jax.jit(\n",
    "    jax.vmap(left_project_all, in_axes=(None, None, None, 0, None, None)),\n",
    "    static_argnames=(\"ydeg\"),\n",
    ")\n",
    "bur(f(l_max, inc, obl, thetas, 0.0, y))\n",
    "t_all = (\n",
    "    timeit.timeit(\"bur(f(l_max, inc, obl, thetas, 0., y))\", globals=globals(), number=n)\n",
    "    / n\n",
    "    * 1e6\n",
    ")\n",
    "\n",
    "f = jax.jit(\n",
    "    jax.vmap(left_project_dotrz, in_axes=(None, None, None, 0, None)),\n",
    "    static_argnames=(\"ydeg\"),\n",
    ")\n",
    "bur(f(l_max, inc, obl, thetas, y))\n",
    "t_1 = (\n",
    "    timeit.timeit(\"bur(f(l_max, inc, obl, thetas, y))\", globals=globals(), number=n)\n",
    "    / n\n",
    "    * 1e6\n",
    ")\n",
    "\n",
    "f = jax.jit(\n",
    "    jax.vmap(left_project_classic, in_axes=(None, None, None, 0, None)),\n",
    "    static_argnames=(\"ydeg\"),\n",
    ")\n",
    "bur(f(l_max, inc, obl, thetas, y))\n",
    "t_2 = (\n",
    "    timeit.timeit(\"bur(f(l_max, inc, obl, thetas, y))\", globals=globals(), number=n)\n",
    "    / n\n",
    "    * 1e6\n",
    ")"
   ]
  },
  {
   "cell_type": "code",
   "execution_count": 12,
   "metadata": {},
   "outputs": [
    {
     "name": "stdout",
     "output_type": "stream",
     "text": [
      "all\t5864.69 us\n",
      "dot_rz\t447.63 us\n",
      "classic\t445.72 us\n"
     ]
    }
   ],
   "source": [
    "print(f\"all\\t{t_all:.2f} us\\ndot_rz\\t{t_1:.2f} us\\nclassic\\t{t_2:.2f} us\")"
   ]
  },
  {
   "cell_type": "markdown",
   "metadata": {},
   "source": [
    "## Few things to notice\n",
    "\n",
    "- As I say in the paper, rotation about y instead of switching to z is a bad idea:"
   ]
  },
  {
   "cell_type": "code",
   "execution_count": 31,
   "metadata": {},
   "outputs": [
    {
     "name": "stdout",
     "output_type": "stream",
     "text": [
      "5.72 ms ± 242 µs per loop (mean ± std. dev. of 7 runs, 100 loops each)\n"
     ]
    }
   ],
   "source": [
    "# notice the first rotation around theta\n",
    "def left_project_y(ydeg, inc, obl, theta, x):\n",
    "    x = dot_rotation_matrix(ydeg, None, 1.0, None, -theta)(x)\n",
    "    x = dot_rotation_matrix(ydeg, None, None, 1.0, -obl)(x)\n",
    "    x = dot_rotation_matrix(\n",
    "        ydeg, -jnp.cos(obl), -jnp.sin(obl), 0.0, (0.5 * jnp.pi - inc)\n",
    "    )(x)\n",
    "    return x\n",
    "\n",
    "f = jax.jit(\n",
    "    jax.vmap(left_project_y, in_axes=(None, None, None, 0, None)),\n",
    "    static_argnames=(\"ydeg\"),\n",
    ")\n",
    "bur(f(l_max, inc, obl, thetas, y))\n",
    "%timeit bur(f(l_max, inc, obl, thetas, y))"
   ]
  },
  {
   "cell_type": "markdown",
   "metadata": {},
   "source": [
    "- `dot_rz` does not necessarily help here, I suspect jax to do a great job"
   ]
  },
  {
   "cell_type": "markdown",
   "metadata": {},
   "source": [
    "# A new version"
   ]
  },
  {
   "cell_type": "code",
   "execution_count": 32,
   "metadata": {},
   "outputs": [],
   "source": [
    "import sympy as sp\n",
    "\n",
    "s_inc, s_obl = sp.symbols(\"inc, obl\")\n",
    "\n",
    "q = sp.Quaternion.from_axis_angle((1.0, 0.0, 0.0), 0.5 * sp.pi)\n",
    "q = q * sp.Quaternion.from_axis_angle((0, 0, 1.0), -s_obl)\n",
    "q = q * sp.Quaternion.from_axis_angle(\n",
    "    (-sp.cos(s_obl), -sp.sin(s_obl), 0.0), 0.5 * sp.pi - s_inc\n",
    ")\n",
    "\n",
    "\n",
    "axis, angle = q.to_axis_angle()"
   ]
  },
  {
   "cell_type": "code",
   "execution_count": 33,
   "metadata": {},
   "outputs": [
    {
     "data": {
      "text/latex": [
       "$\\displaystyle \\frac{1.0 \\sin{\\left(\\frac{inc}{2} \\right)} \\cos{\\left(\\frac{obl}{2} \\right)}}{\\sqrt{- \\cos^{2}{\\left(\\frac{inc}{2} \\right)} \\cos^{2}{\\left(\\frac{obl}{2} \\right)} + 1}}$"
      ],
      "text/plain": [
       "1.0*sin(inc/2)*cos(obl/2)/sqrt(-cos(inc/2)**2*cos(obl/2)**2 + 1)"
      ]
     },
     "execution_count": 33,
     "metadata": {},
     "output_type": "execute_result"
    }
   ],
   "source": [
    "axis[0]"
   ]
  },
  {
   "cell_type": "code",
   "execution_count": 34,
   "metadata": {},
   "outputs": [
    {
     "data": {
      "text/latex": [
       "$\\displaystyle \\frac{1.0 \\sin{\\left(\\frac{inc}{2} \\right)} \\sin{\\left(\\frac{obl}{2} \\right)}}{\\sqrt{- \\cos^{2}{\\left(\\frac{inc}{2} \\right)} \\cos^{2}{\\left(\\frac{obl}{2} \\right)} + 1}}$"
      ],
      "text/plain": [
       "1.0*sin(inc/2)*sin(obl/2)/sqrt(-cos(inc/2)**2*cos(obl/2)**2 + 1)"
      ]
     },
     "execution_count": 34,
     "metadata": {},
     "output_type": "execute_result"
    }
   ],
   "source": [
    "axis[1]"
   ]
  },
  {
   "cell_type": "code",
   "execution_count": 35,
   "metadata": {},
   "outputs": [
    {
     "data": {
      "text/latex": [
       "$\\displaystyle - \\frac{1.0 \\sin{\\left(\\frac{obl}{2} \\right)} \\cos{\\left(\\frac{inc}{2} \\right)}}{\\sqrt{- \\cos^{2}{\\left(\\frac{inc}{2} \\right)} \\cos^{2}{\\left(\\frac{obl}{2} \\right)} + 1}}$"
      ],
      "text/plain": [
       "-1.0*sin(obl/2)*cos(inc/2)/sqrt(-cos(inc/2)**2*cos(obl/2)**2 + 1)"
      ]
     },
     "execution_count": 35,
     "metadata": {},
     "output_type": "execute_result"
    }
   ],
   "source": [
    "axis[2]"
   ]
  },
  {
   "cell_type": "code",
   "execution_count": 36,
   "metadata": {},
   "outputs": [
    {
     "data": {
      "text/latex": [
       "$\\displaystyle 2 \\operatorname{acos}{\\left(1.0 \\cos{\\left(\\frac{inc}{2} \\right)} \\cos{\\left(\\frac{obl}{2} \\right)} \\right)}$"
      ],
      "text/plain": [
       "2*acos(1.0*cos(inc/2)*cos(obl/2))"
      ]
     },
     "execution_count": 36,
     "metadata": {},
     "output_type": "execute_result"
    }
   ],
   "source": [
    "angle"
   ]
  },
  {
   "cell_type": "code",
   "execution_count": 37,
   "metadata": {},
   "outputs": [
    {
     "name": "stdout",
     "output_type": "stream",
     "text": [
      "\\frac{1.0 \\sin{\\left(\\frac{inc}{2} \\right)} \\cos{\\left(\\frac{obl}{2} \\right)}}{\\sqrt{- \\cos^{2}{\\left(\\frac{inc}{2} \\right)} \\cos^{2}{\\left(\\frac{obl}{2} \\right)} + 1}}\n",
      "\\frac{1.0 \\sin{\\left(\\frac{inc}{2} \\right)} \\sin{\\left(\\frac{obl}{2} \\right)}}{\\sqrt{- \\cos^{2}{\\left(\\frac{inc}{2} \\right)} \\cos^{2}{\\left(\\frac{obl}{2} \\right)} + 1}}\n",
      "- \\frac{1.0 \\sin{\\left(\\frac{obl}{2} \\right)} \\cos{\\left(\\frac{inc}{2} \\right)}}{\\sqrt{- \\cos^{2}{\\left(\\frac{inc}{2} \\right)} \\cos^{2}{\\left(\\frac{obl}{2} \\right)} + 1}}\n",
      "2 \\operatorname{acos}{\\left(1.0 \\cos{\\left(\\frac{inc}{2} \\right)} \\cos{\\left(\\frac{obl}{2} \\right)} \\right)}\n"
     ]
    }
   ],
   "source": [
    "for i in [*axis, angle]:\n",
    "    print(sp.latex(i))"
   ]
  },
  {
   "cell_type": "code",
   "execution_count": 82,
   "metadata": {},
   "outputs": [],
   "source": [
    "# new one\n",
    "def left_project_new(ydeg, inc, obl, theta, x):\n",
    "    x = dot_rotation_matrix(ydeg, 1.0, None, None, -0.5 * jnp.pi)(x)\n",
    "    x = dot_rotation_matrix(ydeg, None, None, 1.0, -theta)(x)\n",
    "\n",
    "    co = jnp.cos(obl / 2)\n",
    "    so = jnp.sin(obl / 2)\n",
    "    ci = jnp.cos(inc / 2)\n",
    "    si = jnp.sin(inc / 2)\n",
    "\n",
    "    denominator = jnp.sqrt(1 - ci**2 * co**2)\n",
    "\n",
    "    axis_x = si * co\n",
    "    axis_y = si * so\n",
    "    axis_z = -so * ci\n",
    "\n",
    "    angle = 2 * jnp.arccos(ci * co)\n",
    "\n",
    "    arg = jnp.linalg.norm(jnp.array([axis_x, axis_y, axis_z]))\n",
    "    axis_x = jnp.where(arg > 0, axis_x / denominator, 1.0)\n",
    "    axis_y = jnp.where(arg > 0, axis_y / denominator, 0.0)\n",
    "    axis_z = jnp.where(arg > 0, axis_z / denominator, 0.0)\n",
    "\n",
    "    x = dot_rotation_matrix(ydeg, axis_x, axis_y, axis_z, angle)(x)\n",
    "    return x"
   ]
  },
  {
   "cell_type": "code",
   "execution_count": 83,
   "metadata": {},
   "outputs": [],
   "source": [
    "inc = np.pi / 2 + 0.5\n",
    "obl = -0.2\n",
    "theta = 0.2"
   ]
  },
  {
   "cell_type": "code",
   "execution_count": 84,
   "metadata": {},
   "outputs": [
    {
     "name": "stdout",
     "output_type": "stream",
     "text": [
      "all passed!\n"
     ]
    }
   ],
   "source": [
    "for l in [2, 5, 10]:\n",
    "    w = np.linspace(-1, 1, l**2 + 2 * l + 1)\n",
    "    for i in [0.0, 30.0, 60.0, 90.0]:\n",
    "        for o in [-30.0, 0.0, 30.0]:\n",
    "            t = 0.5\n",
    "            assert np.allclose(\n",
    "                left_project_classic(l, i, o, t, w),\n",
    "                left_project_new(l, i, o, t, w),\n",
    "            )\n",
    "\n",
    "print(\"all passed!\")"
   ]
  },
  {
   "cell_type": "code",
   "execution_count": 85,
   "metadata": {},
   "outputs": [
    {
     "name": "stdout",
     "output_type": "stream",
     "text": [
      "35.3 µs ± 955 ns per loop (mean ± std. dev. of 7 runs, 10,000 loops each)\n"
     ]
    }
   ],
   "source": [
    "f = jax.jit(left_project_new, static_argnames=(\"ydeg\"))\n",
    "bur(f(l_max, inc, obl, theta, y))\n",
    "%timeit bur(f(l_max, inc, obl, theta, y))"
   ]
  },
  {
   "cell_type": "code",
   "execution_count": 86,
   "metadata": {},
   "outputs": [
    {
     "name": "stdout",
     "output_type": "stream",
     "text": [
      "320 µs ± 4.35 µs per loop (mean ± std. dev. of 7 runs, 1,000 loops each)\n"
     ]
    }
   ],
   "source": [
    "f = jax.jit(\n",
    "    jax.vmap(left_project_new, in_axes=(None, None, None, 0, None)),\n",
    "    static_argnames=(\"ydeg\"),\n",
    ")\n",
    "bur(f(l_max, inc, obl, thetas, y))\n",
    "%timeit bur(f(l_max, inc, obl, thetas, y))"
   ]
  },
  {
   "cell_type": "markdown",
   "metadata": {},
   "source": [
    "\n"
   ]
  }
 ],
 "metadata": {
  "kernelspec": {
   "display_name": "jaxoplanet_dev",
   "language": "python",
   "name": "python3"
  },
  "language_info": {
   "codemirror_mode": {
    "name": "ipython",
    "version": 3
   },
   "file_extension": ".py",
   "mimetype": "text/x-python",
   "name": "python",
   "nbconvert_exporter": "python",
   "pygments_lexer": "ipython3",
   "version": "3.9.18"
  }
 },
 "nbformat": 4,
 "nbformat_minor": 2
}
