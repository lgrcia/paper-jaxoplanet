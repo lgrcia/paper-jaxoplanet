{
 "cells": [
  {
   "cell_type": "code",
   "execution_count": 24,
   "metadata": {},
   "outputs": [],
   "source": [
    "import sympy as jnp\n",
    "\n",
    "inc, obl, theta, theta_z = jnp.symbols(\"inc obl theta, theta_z\")\n",
    "\n",
    "f = 0.5 * jnp.sqrt(2)\n",
    "si = jnp.sin(inc / 2)\n",
    "ci = jnp.cos(inc / 2)\n",
    "sp = jnp.sin(0.5 * (obl + theta + theta_z))\n",
    "cp = jnp.cos(0.5 * (obl + theta + theta_z))\n",
    "sm = jnp.sin(0.5 * (obl - theta + theta_z))\n",
    "cm = jnp.cos(0.5 * (obl - theta + theta_z))\n",
    "\n",
    "numerator1 = f * (-si * cm + ci * cp)\n",
    "numerator2 = f * (-si * sm + sp * ci)\n",
    "numerator3 = f * (si * sm + sp * ci)\n",
    "arg = si * cm + ci * cp\n",
    "denominator = jnp.sqrt(1 - 0.5 * arg**2)\n",
    "\n",
    "angle = (2 * jnp.acos(f * arg)).simplify(rational=True)\n",
    "\n",
    "axis_x = (numerator1).simplify(rational=True) / (jnp.sqrt(2) / 2)\n",
    "axis_y = (numerator2).simplify(rational=True) / (jnp.sqrt(2) / 2)\n",
    "axis_z = (numerator3).simplify(rational=True) / (jnp.sqrt(2) / 2)\n",
    "\n",
    "denominator = (denominator / (jnp.sqrt(2) / 2)).simplify(rational=True)"
   ]
  },
  {
   "cell_type": "code",
   "execution_count": 25,
   "metadata": {},
   "outputs": [
    {
     "data": {
      "text/latex": [
       "$\\displaystyle \\sqrt{2 - \\left(\\sin{\\left(\\frac{inc}{2} \\right)} \\cos{\\left(\\frac{obl}{2} - \\frac{\\theta}{2} + \\frac{\\theta_{z}}{2} \\right)} + \\cos{\\left(\\frac{inc}{2} \\right)} \\cos{\\left(\\frac{obl}{2} + \\frac{\\theta}{2} + \\frac{\\theta_{z}}{2} \\right)}\\right)^{2}}$"
      ],
      "text/plain": [
       "sqrt(2 - (sin(inc/2)*cos(obl/2 - theta/2 + theta_z/2) + cos(inc/2)*cos(obl/2 + theta/2 + theta_z/2))**2)"
      ]
     },
     "execution_count": 25,
     "metadata": {},
     "output_type": "execute_result"
    }
   ],
   "source": [
    "denominator"
   ]
  },
  {
   "cell_type": "code",
   "execution_count": 26,
   "metadata": {},
   "outputs": [
    {
     "data": {
      "text/latex": [
       "$\\displaystyle - \\sin{\\left(\\frac{inc}{2} \\right)} \\cos{\\left(\\frac{obl}{2} - \\frac{\\theta}{2} + \\frac{\\theta_{z}}{2} \\right)} + \\cos{\\left(\\frac{inc}{2} \\right)} \\cos{\\left(\\frac{obl}{2} + \\frac{\\theta}{2} + \\frac{\\theta_{z}}{2} \\right)}$"
      ],
      "text/plain": [
       "-sin(inc/2)*cos(obl/2 - theta/2 + theta_z/2) + cos(inc/2)*cos(obl/2 + theta/2 + theta_z/2)"
      ]
     },
     "execution_count": 26,
     "metadata": {},
     "output_type": "execute_result"
    }
   ],
   "source": [
    "axis_x"
   ]
  },
  {
   "cell_type": "code",
   "execution_count": 27,
   "metadata": {},
   "outputs": [
    {
     "data": {
      "text/latex": [
       "$\\displaystyle - \\sin{\\left(\\frac{inc}{2} \\right)} \\sin{\\left(\\frac{obl}{2} - \\frac{\\theta}{2} + \\frac{\\theta_{z}}{2} \\right)} + \\sin{\\left(\\frac{obl}{2} + \\frac{\\theta}{2} + \\frac{\\theta_{z}}{2} \\right)} \\cos{\\left(\\frac{inc}{2} \\right)}$"
      ],
      "text/plain": [
       "-sin(inc/2)*sin(obl/2 - theta/2 + theta_z/2) + sin(obl/2 + theta/2 + theta_z/2)*cos(inc/2)"
      ]
     },
     "execution_count": 27,
     "metadata": {},
     "output_type": "execute_result"
    }
   ],
   "source": [
    "axis_y"
   ]
  },
  {
   "cell_type": "code",
   "execution_count": 28,
   "metadata": {},
   "outputs": [
    {
     "data": {
      "text/latex": [
       "$\\displaystyle \\sin{\\left(\\frac{inc}{2} \\right)} \\sin{\\left(\\frac{obl}{2} - \\frac{\\theta}{2} + \\frac{\\theta_{z}}{2} \\right)} + \\sin{\\left(\\frac{obl}{2} + \\frac{\\theta}{2} + \\frac{\\theta_{z}}{2} \\right)} \\cos{\\left(\\frac{inc}{2} \\right)}$"
      ],
      "text/plain": [
       "sin(inc/2)*sin(obl/2 - theta/2 + theta_z/2) + sin(obl/2 + theta/2 + theta_z/2)*cos(inc/2)"
      ]
     },
     "execution_count": 28,
     "metadata": {},
     "output_type": "execute_result"
    }
   ],
   "source": [
    "axis_z"
   ]
  },
  {
   "cell_type": "code",
   "execution_count": 29,
   "metadata": {},
   "outputs": [
    {
     "name": "stdout",
     "output_type": "stream",
     "text": [
      "- \\sin{\\left(\\frac{inc}{2} \\right)} \\cos{\\left(\\frac{obl}{2} - \\frac{\\theta}{2} + \\frac{\\theta_{z}}{2} \\right)} + \\cos{\\left(\\frac{inc}{2} \\right)} \\cos{\\left(\\frac{obl}{2} + \\frac{\\theta}{2} + \\frac{\\theta_{z}}{2} \\right)}\n",
      "- \\sin{\\left(\\frac{inc}{2} \\right)} \\sin{\\left(\\frac{obl}{2} - \\frac{\\theta}{2} + \\frac{\\theta_{z}}{2} \\right)} + \\sin{\\left(\\frac{obl}{2} + \\frac{\\theta}{2} + \\frac{\\theta_{z}}{2} \\right)} \\cos{\\left(\\frac{inc}{2} \\right)}\n",
      "\\sin{\\left(\\frac{inc}{2} \\right)} \\sin{\\left(\\frac{obl}{2} - \\frac{\\theta}{2} + \\frac{\\theta_{z}}{2} \\right)} + \\sin{\\left(\\frac{obl}{2} + \\frac{\\theta}{2} + \\frac{\\theta_{z}}{2} \\right)} \\cos{\\left(\\frac{inc}{2} \\right)}\n",
      "\\sqrt{2 - \\left(\\sin{\\left(\\frac{inc}{2} \\right)} \\cos{\\left(\\frac{obl}{2} - \\frac{\\theta}{2} + \\frac{\\theta_{z}}{2} \\right)} + \\cos{\\left(\\frac{inc}{2} \\right)} \\cos{\\left(\\frac{obl}{2} + \\frac{\\theta}{2} + \\frac{\\theta_{z}}{2} \\right)}\\right)^{2}}\n"
     ]
    }
   ],
   "source": [
    "for i in [axis_x, axis_y, axis_z, denominator]:\n",
    "    print(jnp.latex(i))"
   ]
  },
  {
   "cell_type": "code",
   "execution_count": 30,
   "metadata": {},
   "outputs": [
    {
     "data": {
      "text/latex": [
       "$\\displaystyle 2 \\operatorname{acos}{\\left(\\frac{\\sqrt{2} \\left(\\sin{\\left(\\frac{inc}{2} \\right)} \\cos{\\left(\\frac{obl}{2} - \\frac{\\theta}{2} + \\frac{\\theta_{z}}{2} \\right)} + \\cos{\\left(\\frac{inc}{2} \\right)} \\cos{\\left(\\frac{obl}{2} + \\frac{\\theta}{2} + \\frac{\\theta_{z}}{2} \\right)}\\right)}{2} \\right)}$"
      ],
      "text/plain": [
       "2*acos(sqrt(2)*(sin(inc/2)*cos(obl/2 - theta/2 + theta_z/2) + cos(inc/2)*cos(obl/2 + theta/2 + theta_z/2))/2)"
      ]
     },
     "execution_count": 30,
     "metadata": {},
     "output_type": "execute_result"
    }
   ],
   "source": [
    "angle"
   ]
  },
  {
   "cell_type": "code",
   "execution_count": 31,
   "metadata": {},
   "outputs": [
    {
     "name": "stdout",
     "output_type": "stream",
     "text": [
      "2 \\operatorname{acos}{\\left(\\frac{\\sqrt{2} \\left(\\sin{\\left(\\frac{inc}{2} \\right)} \\cos{\\left(\\frac{obl}{2} - \\frac{\\theta}{2} + \\frac{\\theta_{z}}{2} \\right)} + \\cos{\\left(\\frac{inc}{2} \\right)} \\cos{\\left(\\frac{obl}{2} + \\frac{\\theta}{2} + \\frac{\\theta_{z}}{2} \\right)}\\right)}{2} \\right)}\n"
     ]
    }
   ],
   "source": [
    "print(jnp.latex(angle))"
   ]
  },
  {
   "cell_type": "code",
   "execution_count": null,
   "metadata": {},
   "outputs": [],
   "source": []
  }
 ],
 "metadata": {
  "kernelspec": {
   "display_name": "jaxoplanet_dev",
   "language": "python",
   "name": "python3"
  },
  "language_info": {
   "codemirror_mode": {
    "name": "ipython",
    "version": 3
   },
   "file_extension": ".py",
   "mimetype": "text/x-python",
   "name": "python",
   "nbconvert_exporter": "python",
   "pygments_lexer": "ipython3",
   "version": "3.9.18"
  }
 },
 "nbformat": 4,
 "nbformat_minor": 2
}
