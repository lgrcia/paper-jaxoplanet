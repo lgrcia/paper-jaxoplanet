{
 "cells": [
  {
   "cell_type": "code",
   "execution_count": 1,
   "metadata": {},
   "outputs": [],
   "source": [
    "import jax\n",
    "\n",
    "jax.config.update(\"jax_enable_x64\", True)\n",
    "\n",
    "import pickle\n",
    "\n",
    "data = pickle.load(open(\"data/flux_all_single_b.pickle\", \"rb\"))"
   ]
  },
  {
   "cell_type": "code",
   "execution_count": 25,
   "metadata": {},
   "outputs": [
    {
     "data": {
      "text/plain": [
       "[mpf('-0.00000000562854607366602976981084793806076'),\n",
       " mpf('-0.00000000562854607366602976981084793806076'),\n",
       " mpf('-0.00000000562854607366602976981084793806076'),\n",
       " mpf('-0.00000000562854607366602976981084793806076'),\n",
       " mpf('-0.00000000562854607366602976981084793806076'),\n",
       " mpf('-0.00000000562854607366602976981084793806076'),\n",
       " mpf('-0.00000000551213075183909495535772293806076'),\n",
       " mpf('-0.00000000568675373457949717703741043806076')]"
      ]
     },
     "execution_count": 25,
     "metadata": {},
     "output_type": "execute_result"
    }
   ],
   "source": [
    "[\n",
    "    mp.mpf(float(f)) - data[\"multiprecision\"][\"20\"]\n",
    "    for f in data[\"jaxoplanet\"][\"20\"].values()\n",
    "]"
   ]
  },
  {
   "cell_type": "code",
   "execution_count": 22,
   "metadata": {},
   "outputs": [
    {
     "data": {
      "text/plain": [
       "{20: Array(2.60951587, dtype=float64),\n",
       " 40: Array(2.60951587, dtype=float64),\n",
       " 60: Array(2.60951587, dtype=float64),\n",
       " 80: Array(2.60951587, dtype=float64),\n",
       " 130: Array(2.60951587, dtype=float64),\n",
       " 200: Array(2.60951587, dtype=float64),\n",
       " 320: Array(2.60951587, dtype=float64),\n",
       " 500: Array(2.60951587, dtype=float64)}"
      ]
     },
     "execution_count": 22,
     "metadata": {},
     "output_type": "execute_result"
    }
   ],
   "source": [
    "data[\"jaxoplanet\"][\"20\"]"
   ]
  },
  {
   "cell_type": "code",
   "execution_count": 38,
   "metadata": {},
   "outputs": [
    {
     "name": "stdout",
     "output_type": "stream",
     "text": [
      "pre-computing A1...\n",
      "pre-computing A2...\n",
      "pre-computing R_px...\n",
      "pre-computing R_mx...\n",
      "pre-computing R_obl...\n",
      "pre-computing R_inc...\n"
     ]
    },
    {
     "ename": "ValueError",
     "evalue": "dimensions not compatible for multiplication",
     "output_type": "error",
     "traceback": [
      "\u001b[0;31m---------------------------------------------------------------------------\u001b[0m",
      "\u001b[0;31mValueError\u001b[0m                                Traceback (most recent call last)",
      "Cell \u001b[0;32mIn[38], line 7\u001b[0m\n\u001b[1;32m      5\u001b[0m f_q \u001b[38;5;241m=\u001b[39m flux_function(\u001b[38;5;241m2\u001b[39m, mp\u001b[38;5;241m.\u001b[39mpi \u001b[38;5;241m/\u001b[39m \u001b[38;5;241m2\u001b[39m, \u001b[38;5;241m0.0\u001b[39m)\n\u001b[1;32m      6\u001b[0m y_q \u001b[38;5;241m=\u001b[39m mp\u001b[38;5;241m.\u001b[39mmatrix([[\u001b[38;5;241m1.0\u001b[39m, \u001b[38;5;241m0.1\u001b[39m, \u001b[38;5;241m0.1\u001b[39m]]) \u001b[38;5;241m@\u001b[39m utils\u001b[38;5;241m.\u001b[39mto_mp(U(\u001b[38;5;241m2\u001b[39m))\n\u001b[0;32m----> 7\u001b[0m f_num \u001b[38;5;241m=\u001b[39m {\u001b[38;5;124m\"\u001b[39m\u001b[38;5;124mquadratic\u001b[39m\u001b[38;5;124m\"\u001b[39m: \u001b[43mf_q\u001b[49m\u001b[43m(\u001b[49m\u001b[43my_q\u001b[49m\u001b[43m,\u001b[49m\u001b[43m \u001b[49m\u001b[38;5;241;43m1.\u001b[39;49m\u001b[43m,\u001b[49m\u001b[43m \u001b[49m\u001b[38;5;241;43m1.\u001b[39;49m\u001b[43m,\u001b[49m\u001b[43m \u001b[49m\u001b[38;5;241;43m0.0\u001b[39;49m\u001b[43m)\u001b[49m}\n",
      "File \u001b[0;32m~/code/jaxoplanet_main_dev/src/jaxoplanet/experimental/starry/multiprecision/flux.py:66\u001b[0m, in \u001b[0;36mflux_function.<locals>.impl\u001b[0;34m(y, b, r, phi, rotate)\u001b[0m\n\u001b[1;32m     64\u001b[0m     \u001b[38;5;28;01mreturn\u001b[39;00m mp\u001b[38;5;241m.\u001b[39mmpf(\u001b[38;5;241m0.0\u001b[39m)\n\u001b[1;32m     65\u001b[0m \u001b[38;5;28;01melse\u001b[39;00m:\n\u001b[0;32m---> 66\u001b[0m     \u001b[38;5;28;01mreturn\u001b[39;00m \u001b[43mocc_flux\u001b[49m\u001b[43m(\u001b[49m\u001b[43my\u001b[49m\u001b[43m,\u001b[49m\u001b[43m \u001b[49m\u001b[43mb\u001b[49m\u001b[43m,\u001b[49m\u001b[43m \u001b[49m\u001b[43mr\u001b[49m\u001b[43m,\u001b[49m\u001b[43m \u001b[49m\u001b[43mphi\u001b[49m\u001b[43m,\u001b[49m\u001b[43m \u001b[49m\u001b[43mrotate\u001b[49m\u001b[38;5;241;43m=\u001b[39;49m\u001b[43mrotate\u001b[49m\u001b[43m)\u001b[49m[\u001b[38;5;241m0\u001b[39m]\n",
      "File \u001b[0;32m~/code/jaxoplanet_main_dev/src/jaxoplanet/experimental/starry/multiprecision/flux.py:53\u001b[0m, in \u001b[0;36mflux_function.<locals>.occ_flux\u001b[0;34m(y, b, r, phi, rotate)\u001b[0m\n\u001b[1;32m     51\u001b[0m x \u001b[38;5;241m=\u001b[39m _sT\u001b[38;5;241m.\u001b[39mT \u001b[38;5;241m@\u001b[39m _A2\n\u001b[1;32m     52\u001b[0m \u001b[38;5;28;01mif\u001b[39;00m rotate:\n\u001b[0;32m---> 53\u001b[0m     y_rotated \u001b[38;5;241m=\u001b[39m \u001b[43mrotate_y\u001b[49m\u001b[43m(\u001b[49m\u001b[43my\u001b[49m\u001b[43m,\u001b[49m\u001b[43m \u001b[49m\u001b[43mphi\u001b[49m\u001b[43m)\u001b[49m\n\u001b[1;32m     54\u001b[0m     y_rotated \u001b[38;5;241m=\u001b[39m dot_rz(l_max, theta_z)(y_rotated)\n\u001b[1;32m     55\u001b[0m \u001b[38;5;28;01melse\u001b[39;00m:\n",
      "File \u001b[0;32m~/code/jaxoplanet_main_dev/src/jaxoplanet/experimental/starry/multiprecision/flux.py:33\u001b[0m, in \u001b[0;36mflux_function.<locals>.rotate_y\u001b[0;34m(y, phi)\u001b[0m\n\u001b[1;32m     32\u001b[0m \u001b[38;5;28;01mdef\u001b[39;00m \u001b[38;5;21mrotate_y\u001b[39m(y, phi):\n\u001b[0;32m---> 33\u001b[0m     y_rotated \u001b[38;5;241m=\u001b[39m \u001b[43mdot_rotation_matrix\u001b[49m\u001b[43m(\u001b[49m\u001b[43ml_max\u001b[49m\u001b[43m,\u001b[49m\u001b[43m \u001b[49m\u001b[38;5;28;43;01mNone\u001b[39;49;00m\u001b[43m,\u001b[49m\u001b[43m \u001b[49m\u001b[38;5;28;43;01mNone\u001b[39;49;00m\u001b[43m,\u001b[49m\u001b[43m \u001b[49m\u001b[43mR_px\u001b[49m\u001b[43m)\u001b[49m\u001b[43m(\u001b[49m\u001b[43my\u001b[49m\u001b[43m)\u001b[49m\n\u001b[1;32m     34\u001b[0m     y_rotated \u001b[38;5;241m=\u001b[39m dot_rz(l_max, phi)(y_rotated)\n\u001b[1;32m     35\u001b[0m     y_rotated \u001b[38;5;241m=\u001b[39m dot_rotation_matrix(l_max, \u001b[38;5;28;01mNone\u001b[39;00m, \u001b[38;5;28;01mNone\u001b[39;00m, R_mx)(y_rotated)\n",
      "File \u001b[0;32m~/code/jaxoplanet_main_dev/src/jaxoplanet/experimental/starry/multiprecision/rotation.py:188\u001b[0m, in \u001b[0;36mdot_rotation_matrix.<locals>.do_dot\u001b[0;34m(M)\u001b[0m\n\u001b[1;32m    185\u001b[0m         result\u001b[38;5;241m.\u001b[39mappend(mp\u001b[38;5;241m.\u001b[39mmatrix([\u001b[38;5;241m1\u001b[39m]))\n\u001b[1;32m    186\u001b[0m     \u001b[38;5;28;01melse\u001b[39;00m:\n\u001b[1;32m    187\u001b[0m         result\u001b[38;5;241m.\u001b[39mappend(\n\u001b[0;32m--> 188\u001b[0m             \u001b[43mmp\u001b[49m\u001b[38;5;241;43m.\u001b[39;49m\u001b[43mmatrix\u001b[49m\u001b[43m(\u001b[49m\u001b[43mM\u001b[49m\u001b[43m[\u001b[49m\u001b[43ml\u001b[49m\u001b[43m \u001b[49m\u001b[38;5;241;43m*\u001b[39;49m\u001b[43m \u001b[49m\u001b[43ml\u001b[49m\u001b[43m \u001b[49m\u001b[43m:\u001b[49m\u001b[43m \u001b[49m\u001b[43ml\u001b[49m\u001b[43m \u001b[49m\u001b[38;5;241;43m*\u001b[39;49m\u001b[43m \u001b[49m\u001b[43ml\u001b[49m\u001b[43m \u001b[49m\u001b[38;5;241;43m+\u001b[39;49m\u001b[43m \u001b[49m\u001b[38;5;241;43m2\u001b[39;49m\u001b[43m \u001b[49m\u001b[38;5;241;43m*\u001b[39;49m\u001b[43m \u001b[49m\u001b[43ml\u001b[49m\u001b[43m \u001b[49m\u001b[38;5;241;43m+\u001b[39;49m\u001b[43m \u001b[49m\u001b[38;5;241;43m1\u001b[39;49m\u001b[43m]\u001b[49m\u001b[43m)\u001b[49m\u001b[38;5;241;43m.\u001b[39;49m\u001b[43mT\u001b[49m\u001b[43m \u001b[49m\u001b[38;5;241;43m@\u001b[39;49m\u001b[43m \u001b[49m\u001b[43mrotation_matrices\u001b[49m\u001b[43m[\u001b[49m\u001b[43ml\u001b[49m\u001b[43m]\u001b[49m\n\u001b[1;32m    189\u001b[0m         )\n\u001b[1;32m    190\u001b[0m S \u001b[38;5;241m=\u001b[39m []\n\u001b[1;32m    191\u001b[0m \u001b[38;5;28;01mfor\u001b[39;00m _s \u001b[38;5;129;01min\u001b[39;00m result:\n",
      "File \u001b[0;32m~/mambaforge/envs/paper-jaxoplanet/lib/python3.10/site-packages/mpmath/matrices/matrices.py:605\u001b[0m, in \u001b[0;36m_matrix.__matmul__\u001b[0;34m(self, other)\u001b[0m\n\u001b[1;32m    604\u001b[0m \u001b[38;5;28;01mdef\u001b[39;00m \u001b[38;5;21m__matmul__\u001b[39m(\u001b[38;5;28mself\u001b[39m, other):\n\u001b[0;32m--> 605\u001b[0m     \u001b[38;5;28;01mreturn\u001b[39;00m \u001b[38;5;28;43mself\u001b[39;49m\u001b[38;5;241;43m.\u001b[39;49m\u001b[38;5;21;43m__mul__\u001b[39;49m\u001b[43m(\u001b[49m\u001b[43mother\u001b[49m\u001b[43m)\u001b[49m\n",
      "File \u001b[0;32m~/mambaforge/envs/paper-jaxoplanet/lib/python3.10/site-packages/mpmath/matrices/matrices.py:589\u001b[0m, in \u001b[0;36m_matrix.__mul__\u001b[0;34m(self, other)\u001b[0m\n\u001b[1;32m    586\u001b[0m \u001b[38;5;28;01mif\u001b[39;00m \u001b[38;5;28misinstance\u001b[39m(other, \u001b[38;5;28mself\u001b[39m\u001b[38;5;241m.\u001b[39mctx\u001b[38;5;241m.\u001b[39mmatrix):\n\u001b[1;32m    587\u001b[0m     \u001b[38;5;66;03m# dot multiplication\u001b[39;00m\n\u001b[1;32m    588\u001b[0m     \u001b[38;5;28;01mif\u001b[39;00m \u001b[38;5;28mself\u001b[39m\u001b[38;5;241m.\u001b[39m_cols \u001b[38;5;241m!=\u001b[39m other\u001b[38;5;241m.\u001b[39m_rows:\n\u001b[0;32m--> 589\u001b[0m         \u001b[38;5;28;01mraise\u001b[39;00m \u001b[38;5;167;01mValueError\u001b[39;00m(\u001b[38;5;124m'\u001b[39m\u001b[38;5;124mdimensions not compatible for multiplication\u001b[39m\u001b[38;5;124m'\u001b[39m)\n\u001b[1;32m    590\u001b[0m     new \u001b[38;5;241m=\u001b[39m \u001b[38;5;28mself\u001b[39m\u001b[38;5;241m.\u001b[39mctx\u001b[38;5;241m.\u001b[39mmatrix(\u001b[38;5;28mself\u001b[39m\u001b[38;5;241m.\u001b[39m_rows, other\u001b[38;5;241m.\u001b[39m_cols)\n\u001b[1;32m    591\u001b[0m     \u001b[38;5;28;01mfor\u001b[39;00m i \u001b[38;5;129;01min\u001b[39;00m \u001b[38;5;28mrange\u001b[39m(\u001b[38;5;28mself\u001b[39m\u001b[38;5;241m.\u001b[39m_rows):\n",
      "\u001b[0;31mValueError\u001b[0m: dimensions not compatible for multiplication"
     ]
    }
   ],
   "source": [
    "from jaxoplanet.experimental.starry.multiprecision.flux import flux_function\n",
    "from jaxoplanet.experimental.starry.multiprecision import mp, utils\n",
    "from jaxoplanet.experimental.starry.basis import U\n",
    "\n",
    "f_q = flux_function(2, mp.pi / 2, 0.0)\n",
    "y_q = mp.matrix([[1.0, 0.1, 0.1]]) @ utils.to_mp(U(2))\n",
    "f_num = {\"quadratic\": f_q(y_q, 1.0, 1.0, 0.0)}"
   ]
  },
  {
   "cell_type": "code",
   "execution_count": 37,
   "metadata": {},
   "outputs": [
    {
     "ename": "ImportError",
     "evalue": "cannot import name 'CACHED_MATRICES' from 'jaxoplanet.experimental.starry.multiprecision.flux' (/Users/lgarcia/code/jaxoplanet_main_dev/src/jaxoplanet/experimental/starry/multiprecision/flux.py)",
     "output_type": "error",
     "traceback": [
      "\u001b[0;31m---------------------------------------------------------------------------\u001b[0m",
      "\u001b[0;31mImportError\u001b[0m                               Traceback (most recent call last)",
      "Cell \u001b[0;32mIn[37], line 1\u001b[0m\n\u001b[0;32m----> 1\u001b[0m \u001b[38;5;28;01mfrom\u001b[39;00m \u001b[38;5;21;01mjaxoplanet\u001b[39;00m\u001b[38;5;21;01m.\u001b[39;00m\u001b[38;5;21;01mexperimental\u001b[39;00m\u001b[38;5;21;01m.\u001b[39;00m\u001b[38;5;21;01mstarry\u001b[39;00m\u001b[38;5;21;01m.\u001b[39;00m\u001b[38;5;21;01mmultiprecision\u001b[39;00m\u001b[38;5;21;01m.\u001b[39;00m\u001b[38;5;21;01mflux\u001b[39;00m \u001b[38;5;28;01mimport\u001b[39;00m CACHED_MATRICES\n",
      "\u001b[0;31mImportError\u001b[0m: cannot import name 'CACHED_MATRICES' from 'jaxoplanet.experimental.starry.multiprecision.flux' (/Users/lgarcia/code/jaxoplanet_main_dev/src/jaxoplanet/experimental/starry/multiprecision/flux.py)"
     ]
    }
   ],
   "source": [
    "from jaxoplanet.experimental.starry.multiprecision.flux import CACHED_MATRICES"
   ]
  },
  {
   "cell_type": "code",
   "execution_count": 36,
   "metadata": {},
   "outputs": [
    {
     "data": {
      "text/plain": [
       "defaultdict(<function jaxoplanet.experimental.starry.multiprecision.basis.<lambda>()>,\n",
       "            {})"
      ]
     },
     "execution_count": 36,
     "metadata": {},
     "output_type": "execute_result"
    }
   ],
   "source": [
    "CACHED_MATRICES"
   ]
  },
  {
   "cell_type": "code",
   "execution_count": 28,
   "metadata": {},
   "outputs": [
    {
     "data": {
      "text/plain": [
       "9"
      ]
     },
     "execution_count": 28,
     "metadata": {},
     "output_type": "execute_result"
    }
   ],
   "source": [
    "len(y_q)"
   ]
  },
  {
   "cell_type": "code",
   "execution_count": 9,
   "metadata": {},
   "outputs": [],
   "source": [
    "from jaxoplanet.experimental.starry import basis\n",
    "from jaxoplanet.experimental.starry.multiprecision import utils, mp"
   ]
  },
  {
   "cell_type": "code",
   "execution_count": 18,
   "metadata": {},
   "outputs": [
    {
     "data": {
      "text/plain": [
       "matrix(\n",
       "[['0.699999999999999983346654630623', '0.0', '0.300000000000000016653345369377', '0.0', '0.100000000000000005551115123126', '0.0', '0.0', '0.0', '0.100000000000000005551115123126']])"
      ]
     },
     "execution_count": 18,
     "metadata": {},
     "output_type": "execute_result"
    }
   ],
   "source": [
    "mp.matrix([[1.0, 0.1, 0.1]]) @ utils.to_mp(basis.U(2))"
   ]
  },
  {
   "cell_type": "code",
   "execution_count": null,
   "metadata": {},
   "outputs": [],
   "source": []
  }
 ],
 "metadata": {
  "kernelspec": {
   "display_name": "paper-jaxoplanet",
   "language": "python",
   "name": "python3"
  },
  "language_info": {
   "codemirror_mode": {
    "name": "ipython",
    "version": 3
   },
   "file_extension": ".py",
   "mimetype": "text/x-python",
   "name": "python",
   "nbconvert_exporter": "python",
   "pygments_lexer": "ipython3",
   "version": "3.10.14"
  }
 },
 "nbformat": 4,
 "nbformat_minor": 2
}
